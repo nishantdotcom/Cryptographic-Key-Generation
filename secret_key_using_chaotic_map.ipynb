{
  "nbformat": 4,
  "nbformat_minor": 0,
  "metadata": {
    "colab": {
      "name": "secret key using  chaotic map.ipynb",
      "provenance": [],
      "authorship_tag": "ABX9TyPrX/y3PBw36UWs2YS1h+Tk",
      "include_colab_link": true
    },
    "kernelspec": {
      "name": "python3",
      "display_name": "Python 3"
    },
    "language_info": {
      "name": "python"
    }
  },
  "cells": [
    {
      "cell_type": "markdown",
      "metadata": {
        "id": "view-in-github",
        "colab_type": "text"
      },
      "source": [
        "<a href=\"https://colab.research.google.com/github/nishantkumar1308/Cryptographic-Key-Generation/blob/main/secret_key_using_chaotic_map.ipynb\" target=\"_parent\"><img src=\"https://colab.research.google.com/assets/colab-badge.svg\" alt=\"Open In Colab\"/></a>"
      ]
    },
    {
      "cell_type": "markdown",
      "source": [
        "**CHAOTIC MAP KEY GENERATION**"
      ],
      "metadata": {
        "id": "YpGhrDOs_eYI"
      }
    },
    {
      "cell_type": "code",
      "execution_count": 16,
      "metadata": {
        "colab": {
          "base_uri": "https://localhost:8080/"
        },
        "id": "aGwkQ68M74IZ",
        "outputId": "32777951-a6a7-4e69-cfe0-479d075023fe"
      },
      "outputs": [
        {
          "output_type": "stream",
          "name": "stdout",
          "text": [
            "[0, 56, 158, 96, 160, 213, 213, 28, 208, 198]\n"
          ]
        }
      ],
      "source": [
        "#we have to write a function which help to give set of unique keys which help to genrate secret keys for encryption\n",
        "def keygen(x,r,size):\n",
        "  key=[]\n",
        "  for i in range (size):\n",
        "    x=r*x*(1-x)\n",
        "    key.append(int(x*(pow(10,16))%256))\n",
        "  return key\n",
        "\n",
        "print(keygen(0.01,3.915,10))"
      ]
    },
    {
      "cell_type": "markdown",
      "source": [
        "The unique key is generated using chaotic map #=>x*r(1-x) **bold text** where r is a parameter that changes.\n",
        "Paarameter r shows chaotic behavior on the value r=>(3,4)"
      ],
      "metadata": {
        "id": "f4F1y1zW99r8"
      }
    },
    {
      "cell_type": "markdown",
      "source": [
        "**HENON MAP KEY GENERATION**"
      ],
      "metadata": {
        "id": "FL0DL7dtCFEX"
      }
    },
    {
      "cell_type": "code",
      "source": [
        "#henon map shows chaotic behavior  which help us to genrate ramndom set of keys\n",
        "#=> x[n+1]=1-a*x[n]*x[n]+y[n]\n",
        "#=>y[n+1]=b*x[n];\n",
        "# a and b controlled parameter used to change the sensitivty of equation \n",
        "#a=1.4 and b=0.3\n",
        "def henonmap(x,y,a,b,size):\n",
        "  x1=0;\n",
        "  y1=0;\n",
        "  for i in range (size):\n",
        "    x1=1-a*x*x+y\n",
        "    y1=b*x\n",
        "    val1=int(x1*pow(10,16))%256\n",
        "    val2=int(y1*pow(10,16))%256\n",
        "    #here we use %256 as we  know image is in 2-D grid and image gradient lie between 0 to 255\n",
        "\n",
        "\n",
        "    print(val1,\" \",val2)\n",
        "    x=x1;\n",
        "    y=y1;\n",
        "    \n",
        "\n",
        "henonmap(0.001,0.2,1.4,0.3,20)  \n"
      ],
      "metadata": {
        "colab": {
          "base_uri": "https://localhost:8080/"
        },
        "id": "R7-eBzTb_nrK",
        "outputId": "8465c35a-7199-4fc2-8555-4e2a710df973"
      },
      "execution_count": 21,
      "outputs": [
        {
          "output_type": "stream",
          "name": "stdout",
          "text": [
            "0   255\n",
            "210   0\n",
            "19   217\n",
            "76   6\n",
            "59   73\n",
            "148   145\n",
            "142   146\n",
            "120   171\n",
            "148   215\n",
            "38   147\n",
            "254   88\n",
            "184   153\n",
            "250   208\n",
            "251   255\n",
            "138   203\n",
            "32   246\n",
            "132   112\n",
            "170   245\n",
            "184   0\n",
            "237   29\n"
          ]
        }
      ]
    },
    {
      "cell_type": "markdown",
      "source": [
        "Henon map is 2-d map which whose secret key is value used in key generation and mathematical representaion of henon map is\n",
        "#-> x[n+1]=1-a*(x[n])*(x[n])+y[n]\n",
        "#->y[n+1]=b*x[n]\n",
        "a and b are the controlled parameter"
      ],
      "metadata": {
        "id": "ryDqARM_FT_S"
      }
    }
  ]
}