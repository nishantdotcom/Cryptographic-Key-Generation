{
  "nbformat": 4,
  "nbformat_minor": 0,
  "metadata": {
    "colab": {
      "name": "henon map.ipynb",
      "provenance": [],
      "authorship_tag": "ABX9TyMv4yt7uBIzjW+YAnbc46ii",
      "include_colab_link": true
    },
    "kernelspec": {
      "name": "python3",
      "display_name": "Python 3"
    },
    "language_info": {
      "name": "python"
    }
  },
  "cells": [
    {
      "cell_type": "markdown",
      "metadata": {
        "id": "view-in-github",
        "colab_type": "text"
      },
      "source": [
        "<a href=\"https://colab.research.google.com/github/nishantkumar1308/Cryptographic-Key-Generation/blob/main/henon_map.ipynb\" target=\"_parent\"><img src=\"https://colab.research.google.com/assets/colab-badge.svg\" alt=\"Open In Colab\"/></a>"
      ]
    },
    {
      "cell_type": "markdown",
      "source": [
        "Henon map is one the chaotic map which is used in genrating cryptogrpahic keys\n",
        "These keys are highly sensitive and with its inital seeds it will create a list of  pseudo random number..."
      ],
      "metadata": {
        "id": "VBc0cceDSQOv"
      }
    },
    {
      "cell_type": "code",
      "source": [
        "#impoting  files\n",
        "import numpy as np\n",
        "import matplotlib.pyplot as plt \n"
      ],
      "metadata": {
        "id": "lmuds74MSmAP"
      },
      "execution_count": 1,
      "outputs": []
    },
    {
      "cell_type": "code",
      "source": [
        "def henon_attractor(x, y, a=1.4, b=0.3):\n",
        "\t#x,y are initial paramter and a and b are the seeds\n",
        "  #inorder to generate next sequence you have to genrate x_next and y_next\n",
        "\tx_next = 1 - a * x ** 2 + y\n",
        "\ty_next = b * x\n",
        "\treturn x_next, y_next\n",
        "\t\n",
        "# number of iterations and array initialization\n",
        "steps = 100000\n",
        "X = np.zeros(steps + 1)\n",
        "Y = np.zeros(steps + 1)\n",
        "\n",
        "# starting point\n",
        "X[0], Y[0] = 0, 0\n",
        "\n",
        "# add points to array\n",
        "for i in range(steps):\n",
        "\tx_next, y_next = henon_attractor(X[i], Y[i])\n",
        "\tX[i+1] = x_next\n",
        "\tY[i+1] = y_next\n",
        "\t\n",
        "# plot figure\n",
        "plt.plot(X, Y, '^', color='black', alpha = 0.8, markersize=0.3)\n",
        "plt.axis('on')\n",
        "plt.show()\n",
        "plt.close()\n",
        "\n",
        "\n",
        "# for i in range (100):\n",
        "#  print(X[i]);\n",
        "\n",
        "\n"
      ],
      "metadata": {
        "colab": {
          "base_uri": "https://localhost:8080/",
          "height": 265
        },
        "id": "eAO7tmk-S5K-",
        "outputId": "868b6136-d3d5-4a10-eba0-d482e5935f15"
      },
      "execution_count": 8,
      "outputs": [
        {
          "output_type": "display_data",
          "data": {
            "text/plain": [
              "<Figure size 432x288 with 1 Axes>"
            ],
            "image/png": "[encoded data removed]"
          },
          "metadata": {
            "needs_background": "light"
          }
        }
      ]
    },
    {
      "cell_type": "code",
      "source": [
        "\n",
        "for i in range(50):\n",
        "  print(abs(X[i]*10000000)%255)"
      ],
      "metadata": {
        "colab": {
          "base_uri": "https://localhost:8080/"
        },
        "id": "8yxXHOzbUVQe",
        "outputId": "06c238d0-f73c-4500-e469-908a834622ac"
      },
      "execution_count": 15,
      "outputs": [
        {
          "output_type": "stream",
          "name": "stdout",
          "text": [
            "0.0\n",
            "175.0\n",
            "69.99999999906868\n",
            "20.0\n",
            "94.00000000093132\n",
            "32.792130559682846\n",
            "121.15075259888545\n",
            "102.08565926551819\n",
            "16.720383706036955\n",
            "150.76202734932303\n",
            "184.98310159519315\n",
            "53.61624478152953\n",
            "12.614184715785086\n",
            "252.23657715367153\n",
            "19.004177700728178\n",
            "232.7824421627447\n",
            "50.097190449014306\n",
            "24.68940100260079\n",
            "128.01056398334913\n",
            "14.867628186941147\n",
            "116.40641506155953\n",
            "39.18396979942918\n",
            "141.46335710398853\n",
            "35.37324561737478\n",
            "139.31916769593954\n",
            "27.44414878822863\n",
            "14.356602353975177\n",
            "207.2955511463806\n",
            "92.6210419619456\n",
            "116.04121115617454\n",
            "128.68001712299883\n",
            "169.19148842105642\n",
            "17.716969085857272\n",
            "172.93187145330012\n",
            "7.42057859711349\n",
            "86.36895694117993\n",
            "36.424947230145335\n",
            "82.85731505230069\n",
            "234.12405200488865\n",
            "58.368262180825695\n",
            "42.86921390518546\n",
            "111.71871046163142\n",
            "52.32022321643308\n",
            "79.16784742567688\n",
            "243.64947278704494\n",
            "118.41313247662038\n",
            "188.91135785914958\n",
            "209.69539917539805\n",
            "231.63394472002983\n",
            "222.41830312047387\n"
          ]
        }
      ]
    },
    {
      "cell_type": "code",
      "source": [
        ""
      ],
      "metadata": {
        "id": "JKLJnnV2Uenp"
      },
      "execution_count": null,
      "outputs": []
    }
  ]
}